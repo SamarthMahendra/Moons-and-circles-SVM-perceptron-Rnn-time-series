{
 "cells": [
  {
   "metadata": {},
   "cell_type": "markdown",
   "source": "\n",
   "id": "717508ee0fe47017"
  },
  {
   "metadata": {},
   "cell_type": "markdown",
   "source": "",
   "id": "6ed78459a6a215e"
  },
  {
   "cell_type": "code",
   "id": "initial_id",
   "metadata": {
    "collapsed": true
   },
   "source": [
    "# Complementary Slackness Condition Tutorial\n",
    "# Using a 2D Linear Programming Example"
   ],
   "outputs": [],
   "execution_count": null
  },
  {
   "metadata": {},
   "cell_type": "markdown",
   "source": [
    "### Complementary slackness\n",
    "\n",
    "**Complementary Slackness in Optimization**\n",
    "\n",
    "Complementary slackness is a critical concept in **duality theory** for **convex optimization**, establishing necessary conditions for optimality when dealing with inequality constraints. It essentially provides a way to link primal and dual problems, especially when inequality constraints are involved.\n",
    "\n",
    "### Mathematical Formulation\n",
    "Consider an optimization problem with an inequality constraint:\n",
    "\n",
    "\\[\n",
    "\\min f(x) \\quad \\text{subject to} \\quad g(x) \\leq 0\n",
    "\\]\n",
    "\n",
    "In the corresponding **Lagrange dual formulation**, we introduce a **Lagrange multiplier** \\( \\lambda \\geq 0 \\) for the inequality constraint \\( g(x) \\leq 0 \\). The complementary slackness condition for optimality requires that:\n",
    "\n",
    "\\[\n",
    "\\lambda \\cdot g(x) = 0\n",
    "\\]\n",
    "\n",
    "This condition has two implications:\n",
    "1. **If the primal constraint is inactive** (i.e., \\( g(x) < 0 \\)), then the dual variable (multiplier) **must be zero**: \\( \\lambda = 0 \\).\n",
    "2. **If the dual variable is positive** (\\( \\lambda > 0 \\)), then the corresponding **primal constraint must be binding**, meaning it’s exactly at the boundary: \\( g(x) = 0 \\).\n",
    "\n",
    "### Why It’s Important\n",
    "In simpler terms, complementary slackness ensures that we’re not assigning a “price” (dual variable) to constraints unless they’re precisely at their limits in the optimal solution. This idea is fundamental in **sensitivity analysis** and **interpreting dual variables** as shadow prices, as it helps to understand which constraints are influential in determining the optimal solution.\n",
    "\n",
    "\n"
   ],
   "id": "476ff525fc2c7366"
  },
  {
   "metadata": {},
   "cell_type": "code",
   "source": [
    "import numpy as np\n",
    "import matplotlib.pyplot as plt\n",
    "from scipy.optimize import linprog"
   ],
   "id": "6f6bac6addd5d61a",
   "outputs": [],
   "execution_count": null
  },
  {
   "metadata": {},
   "cell_type": "markdown",
   "source": [
    "## SECTION 1: Introduction to Complementary Slackness\n",
    "Complementary Slackness is a fundamental concept in optimization theory that provides \n",
    "a relationship between primal and dual solutions in linear programming.\n",
    "\n",
    "The condition states that for optimal solutions:\n",
    "- If a constraint is not binding (slack > 0), then its corresponding dual variable must be zero\n",
    "- If a dual variable is positive, then its corresponding primal constraint must be binding (slack = 0)\n",
    "\n",
    "We'll demonstrate this using a simple 2D example."
   ],
   "id": "fcbdfa2a40ae5e7f"
  },
  {
   "metadata": {},
   "cell_type": "markdown",
   "source": "## SECTION 2: Problem Setup\n",
   "id": "6ee4d8ba33d2c44e"
  },
  {
   "metadata": {},
   "cell_type": "code",
   "source": [
    "\"\"\"\n",
    "Consider the following linear programming problem:\n",
    "\n",
    "Minimize:    z = 2x₁ + 3x₂\n",
    "Subject to:  x₁ + x₂ ≥ 4     (constraint 1)\n",
    "             2x₁ + x₂ ≥ 5     (constraint 2)\n",
    "             x₁, x₂ ≥ 0\n",
    "\n",
    "We'll solve this problem and examine the complementary slackness conditions.\n",
    "\"\"\"\n",
    "\n"
   ],
   "id": "d1d7dad4521cad4",
   "outputs": [],
   "execution_count": null
  },
  {
   "metadata": {},
   "cell_type": "code",
   "source": [
    "# Define the problem parameters\n",
    "c = np.array([2, 3])  # Objective function coefficients\n",
    "A = np.array([[-1, -1], [-2, -1]])  # Constraint coefficients (negative for ≥ constraints)\n",
    "b = np.array([-4, -5])  # Right-hand side (negative for ≥ constraints)\n",
    "\n",
    "# Solve the linear program using the HiGHS method\n",
    "result = linprog(c, A_ub=A, b_ub=b, method='highs')\n",
    "x_optimal = result.x\n",
    "print(\"\\nOptimal Solution:\")\n",
    "print(f\"x₁ = {x_optimal[0]:.2f}\")\n",
    "print(f\"x₂ = {x_optimal[1]:.2f}\")\n",
    "print(f\"Optimal value = {result.fun:.2f}\")"
   ],
   "id": "f6abde8cfaa2654a",
   "outputs": [],
   "execution_count": null
  },
  {
   "metadata": {},
   "cell_type": "markdown",
   "source": "",
   "id": "48eebd8b22e26d48"
  },
  {
   "metadata": {},
   "cell_type": "markdown",
   "source": "## SECTION 3: Visualization",
   "id": "67a857c2c222fca6"
  },
  {
   "metadata": {},
   "cell_type": "code",
   "source": [
    "def plot_constraints_and_solution():\n",
    "    x1 = np.linspace(0, 6, 100)\n",
    "    \n",
    "    # Plot constraints\n",
    "    plt.figure(figsize=(10, 8))\n",
    "    plt.plot(x1, 4-x1, label='x₁ + x₂ = 4 (constraint 1)')\n",
    "    plt.plot(x1, 5-2*x1, label='2x₁ + x₂ = 5 (constraint 2)')\n",
    "    \n",
    "    # Fill feasible region\n",
    "    x1_fill = np.linspace(0, 5, 100)\n",
    "    plt.fill_between(x1_fill, \n",
    "                    np.maximum(4-x1_fill, 5-2*x1_fill),\n",
    "                    8*np.ones_like(x1_fill),\n",
    "                    alpha=0.2,\n",
    "                    color='gray',\n",
    "                    label='Feasible Region')\n",
    "    \n",
    "    # Plot optimal solution\n",
    "    plt.plot(x_optimal[0], x_optimal[1], 'r*', markersize=15, label='Optimal Solution')\n",
    "    \n",
    "    # Plot objective function level lines\n",
    "    z_optimal = 2*x_optimal[0] + 3*x_optimal[1]\n",
    "    for z in [z_optimal-1, z_optimal, z_optimal+1]:\n",
    "        plt.plot(x1, (z - 2*x1)/3, '--', alpha=0.5)\n",
    "    \n",
    "    plt.grid(True, alpha=0.3)\n",
    "    plt.xlabel('x₁')\n",
    "    plt.ylabel('x₂')\n",
    "    plt.title('Linear Programming Example with Complementary Slackness')\n",
    "    plt.legend()\n",
    "    plt.xlim(0, 5)\n",
    "    plt.ylim(0, 5)\n",
    "    plt.show()\n",
    "\n",
    "plot_constraints_and_solution()"
   ],
   "id": "bebe6f3eed54d985",
   "outputs": [],
   "execution_count": null
  },
  {
   "metadata": {},
   "cell_type": "markdown",
   "source": "## SECTION 4: Checking Complementary Slackness",
   "id": "6418792111a9a219"
  },
  {
   "metadata": {},
   "cell_type": "code",
   "source": "",
   "id": "d3c300a174c4cc66",
   "outputs": [],
   "execution_count": null
  },
  {
   "metadata": {},
   "cell_type": "code",
   "source": [
    "\"\"\"\n",
    "Let's verify the complementary slackness conditions:\n",
    "1. Calculate slack variables for each constraint\n",
    "2. Examine dual variables\n",
    "3. Verify the complementary slackness conditions\n",
    "\"\"\"\n",
    "\n",
    "# Access slack variables directly from the result\n",
    "slack_variables = result.slack\n",
    "print(\"\\nSlack Variables:\")\n",
    "print(f\"Slack 1 = {slack_variables[0]:.6f}\")\n",
    "print(f\"Slack 2 = {slack_variables[1]:.6f}\")\n",
    "\n",
    "# Get dual variables (shadow prices) for inequality constraints\n",
    "dual_variables = result.ineqlin.marginals\n",
    "print(\"\\nDual Variables (Shadow Prices):\")\n",
    "print(f\"y₁ = {dual_variables[0]:.6f}\")\n",
    "print(f\"y₂ = {dual_variables[1]:.6f}\")\n",
    "\n",
    "# Verify complementary slackness\n",
    "print(\"\\nComplementary Slackness Verification:\")\n",
    "print(f\"slack1 × y₁ = {slack_variables[0] * dual_variables[0]:.6f}\")\n",
    "print(f\"slack2 × y₂ = {slack_variables[1] * dual_variables[1]:.6f}\")\n",
    "\n",
    "\"\"\"\n",
    "Observations:\n",
    "1. When a constraint is binding (slack = 0), its dual variable can be positive\n",
    "2. When a constraint has positive slack, its dual variable must be zero\n",
    "3. The product of slack and dual variable is always zero\n",
    "\n",
    "This demonstrates the complementary slackness conditions in action:\n",
    "- For each constraint i: slack[i] × dual_variable[i] = 0\n",
    "\"\"\""
   ],
   "id": "f99fee4c4dd75d7f",
   "outputs": [],
   "execution_count": null
  },
  {
   "metadata": {},
   "cell_type": "markdown",
   "source": "## SECTION 5: Conclusion",
   "id": "7287b6d13c3da7ff"
  },
  {
   "metadata": {},
   "cell_type": "code",
   "source": [
    "\"\"\"\n",
    "Economic Interpretation:\n",
    "1. Dual variables (shadow prices) represent the marginal value of resources\n",
    "2. A positive dual variable indicates that the constraint is binding and valuable\n",
    "3. A zero dual variable indicates that the constraint is not limiting the optimal solution\n",
    "4. The complementary slackness condition ensures efficient resource allocation\n",
    "\"\"\""
   ],
   "id": "4545ca4da7483fac",
   "outputs": [],
   "execution_count": null
  }
 ],
 "metadata": {
  "kernelspec": {
   "display_name": "Python 3",
   "language": "python",
   "name": "python3"
  },
  "language_info": {
   "codemirror_mode": {
    "name": "ipython",
    "version": 2
   },
   "file_extension": ".py",
   "mimetype": "text/x-python",
   "name": "python",
   "nbconvert_exporter": "python",
   "pygments_lexer": "ipython2",
   "version": "2.7.6"
  }
 },
 "nbformat": 4,
 "nbformat_minor": 5
}
